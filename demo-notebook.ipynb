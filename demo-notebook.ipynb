{
 "cells": [
  {
   "attachments": {},
   "cell_type": "markdown",
   "metadata": {},
   "source": [
    "# Venkat Teja Notebook - Intro to Jupyter\n",
    "\n",
    "TODO: Create a standard header for your notebooks with your company/name/alias and a link to the repo.\n",
    "\n",
    "- Author: [Venkat Teja](https://github.com/vnallam09)\n",
    "- Repository: [datafun-04-notebooks](https://github.com/vnallam09/datafun-04-notebooks)"
   ]
  },
  {
   "cell_type": "markdown",
   "metadata": {},
   "source": [
    "## Section 1. Getting Started\n",
    "\n",
    "This is a Markdown cell (not a Python cell). \n",
    "Here are a few tips to help you get started with Jupyter Notebooks:\n",
    "\n",
    "- To run a cell, press **Ctrl+Enter** (or **Cmd+Enter** on Mac) when you're done editing the cell.\n",
    "- You can change the type of a cell (e.g., code or markdown) by looking in the lower left corner of the notebook interface.\n",
    "- You can rearrange cells by dragging and dropping them within the notebook.\n",
    "- After creating a new notebook, use **File > Save as** to rename and save it into your repository folder.\n",
    "- To select a kernel (Python environment) for your notebook in Visual Studio Code, click on the **Select Kernel** name in the top-right corner of the notebook interface and choose the desired kernel from the dropdown menu. Follow suggestions to install recommended extensions. Once installed, click Select Kernel / Python Environments and choose the Recommended `.venv` option we created earlier. This will create a new kernel for the notebook and allow you to run code in the notebook using the packages installed in the virtual environment.\n"
   ]
  },
  {
   "cell_type": "markdown",
   "metadata": {},
   "source": [
    "## Section 2. Imports\n",
    "\n",
    "This is a Markdown cell. "
   ]
  },
  {
   "cell_type": "code",
   "execution_count": 9,
   "metadata": {},
   "outputs": [],
   "source": [
    "# Imports still go at the top. This is a Python cell.\n",
    "\n",
    "# Import from external packages\n",
    "import numpy as np\n",
    "import pandas as pd\n",
    "import seaborn as sns\n",
    "import matplotlib\n",
    "import ipywidgets  # interactive widgets\n",
    "import IPython  # used for display of widgets\n",
    "\n",
    "# Type hint for Axes object (basic plot type returned by Seaborn)\n",
    "# A seaborn plot is a set of axes and you can set the title, labels, etc. on the axes.\n",
    "from matplotlib.axes import Axes\n",
    "\n",
    "# A figure can contain multiple axes (plots)\n",
    "# from matplotlib.figure import Figure"
   ]
  },
  {
   "attachments": {},
   "cell_type": "markdown",
   "metadata": {},
   "source": [
    "## Section 3. Load and Explore Seaborn Penguins Dataset\n",
    "\n",
    "This is a Markdown cell."
   ]
  },
  {
   "cell_type": "code",
   "execution_count": 10,
   "metadata": {},
   "outputs": [
    {
     "data": {
      "text/html": [
       "<div>\n",
       "<style scoped>\n",
       "    .dataframe tbody tr th:only-of-type {\n",
       "        vertical-align: middle;\n",
       "    }\n",
       "\n",
       "    .dataframe tbody tr th {\n",
       "        vertical-align: top;\n",
       "    }\n",
       "\n",
       "    .dataframe thead th {\n",
       "        text-align: right;\n",
       "    }\n",
       "</style>\n",
       "<table border=\"1\" class=\"dataframe\">\n",
       "  <thead>\n",
       "    <tr style=\"text-align: right;\">\n",
       "      <th></th>\n",
       "      <th>total_bill</th>\n",
       "      <th>tip</th>\n",
       "      <th>sex</th>\n",
       "      <th>smoker</th>\n",
       "      <th>day</th>\n",
       "      <th>time</th>\n",
       "      <th>size</th>\n",
       "    </tr>\n",
       "  </thead>\n",
       "  <tbody>\n",
       "    <tr>\n",
       "      <th>0</th>\n",
       "      <td>16.99</td>\n",
       "      <td>1.01</td>\n",
       "      <td>Female</td>\n",
       "      <td>No</td>\n",
       "      <td>Sun</td>\n",
       "      <td>Dinner</td>\n",
       "      <td>2</td>\n",
       "    </tr>\n",
       "    <tr>\n",
       "      <th>1</th>\n",
       "      <td>10.34</td>\n",
       "      <td>1.66</td>\n",
       "      <td>Male</td>\n",
       "      <td>No</td>\n",
       "      <td>Sun</td>\n",
       "      <td>Dinner</td>\n",
       "      <td>3</td>\n",
       "    </tr>\n",
       "    <tr>\n",
       "      <th>2</th>\n",
       "      <td>21.01</td>\n",
       "      <td>3.50</td>\n",
       "      <td>Male</td>\n",
       "      <td>No</td>\n",
       "      <td>Sun</td>\n",
       "      <td>Dinner</td>\n",
       "      <td>3</td>\n",
       "    </tr>\n",
       "    <tr>\n",
       "      <th>3</th>\n",
       "      <td>23.68</td>\n",
       "      <td>3.31</td>\n",
       "      <td>Male</td>\n",
       "      <td>No</td>\n",
       "      <td>Sun</td>\n",
       "      <td>Dinner</td>\n",
       "      <td>2</td>\n",
       "    </tr>\n",
       "    <tr>\n",
       "      <th>4</th>\n",
       "      <td>24.59</td>\n",
       "      <td>3.61</td>\n",
       "      <td>Female</td>\n",
       "      <td>No</td>\n",
       "      <td>Sun</td>\n",
       "      <td>Dinner</td>\n",
       "      <td>4</td>\n",
       "    </tr>\n",
       "  </tbody>\n",
       "</table>\n",
       "</div>"
      ],
      "text/plain": [
       "   total_bill   tip     sex smoker  day    time  size\n",
       "0       16.99  1.01  Female     No  Sun  Dinner     2\n",
       "1       10.34  1.66    Male     No  Sun  Dinner     3\n",
       "2       21.01  3.50    Male     No  Sun  Dinner     3\n",
       "3       23.68  3.31    Male     No  Sun  Dinner     2\n",
       "4       24.59  3.61  Female     No  Sun  Dinner     4"
      ]
     },
     "execution_count": 10,
     "metadata": {},
     "output_type": "execute_result"
    }
   ],
   "source": [
    "# This cell is Python, so we can write Python code here.......\n",
    "\n",
    "# Load the penguins dataset from Seaborn\n",
    "# Into a pandas DataFrame (table)\n",
    "tips_df: pd.DataFrame = sns.load_dataset(\"tips\")\n",
    "\n",
    "# Show a few lines from the start of the dataset\n",
    "tips_df.head()"
   ]
  },
  {
   "cell_type": "markdown",
   "metadata": {},
   "source": [
    "## Section 4. Create a Seaborn Scatter Plot\n",
    "\n",
    "A scatter plot is used to visualize the relationship between two numerical variables. \n",
    "This is a Markdown cell. "
   ]
  },
  {
   "cell_type": "code",
   "execution_count": 11,
   "metadata": {},
   "outputs": [
    {
     "data": {
      "text/plain": [
       "Text(0.5, 1.0, 'Chart 1. total bill vs. tip')"
      ]
     },
     "execution_count": 11,
     "metadata": {},
     "output_type": "execute_result"
    },
    {
     "data": {
      "image/png": "[encoded data removed]",
      "text/plain": [
       "<Figure size 640x480 with 1 Axes>"
      ]
     },
     "metadata": {},
     "output_type": "display_data"
    }
   ],
   "source": [
    "# This cell is Python too - previous cells must be run first\n",
    "\n",
    "# Create a scatter plot of penguin flipper length vs. body mass\n",
    "# We need to know our dataset column names so we can use them to set x, y, and hue (color)\n",
    "scatter_plt: Axes = sns.scatterplot(\n",
    "    data=tips_df, x=\"total_bill\", y=\"tip\", hue=\"time\"\n",
    ")\n",
    "\n",
    "# Set axis labels using the Matplotlib Axes methods set_xlabel() and set_ylabel()\n",
    "scatter_plt.set_xlabel(\"total_bill\")\n",
    "scatter_plt.set_ylabel(\"tip\")\n",
    "\n",
    "# Set the title using the Matplotlib Axes set_title() method\n",
    "scatter_plt.set_title(\"Chart 1. total bill vs. tip\")\n",
    "\n",
    "# Run this cell by clicking the play button (Execute cell and below) in the cell toolbar\n",
    "# Or by pressing Shift+Enter\n",
    "# or by clicking Run All in the Menu above"
   ]
  },
  {
   "cell_type": "markdown",
   "metadata": {},
   "source": [
    "## Section 5. Create a Seaborn Bar Plot\n",
    "\n",
    "A bar plot is used to show the relationship between a numerical variable and a categorical variable.\n",
    "This is a markdown cell."
   ]
  },
  {
   "cell_type": "code",
   "execution_count": 13,
   "metadata": {},
   "outputs": [
    {
     "data": {
      "text/plain": [
       "Text(0.5, 1.0, 'Chart 2. Sales by Category')"
      ]
     },
     "execution_count": 13,
     "metadata": {},
     "output_type": "execute_result"
    },
    {
     "data": {
      "image/png": "[encoded data removed]",
      "text/plain": [
       "<Figure size 640x480 with 1 Axes>"
      ]
     },
     "metadata": {},
     "output_type": "display_data"
    }
   ],
   "source": [
    "# This is a Python cell\n",
    "# Specify some sales data as a Python dictionary\n",
    "sales_data_dict: dict = {\"Category\": [\"A\", \"B\", \"C\"], \"Sales\": [200, 150, 300]}\n",
    "\n",
    "# Create a pandas DataFrame from the dictionary\n",
    "sales_df: pd.DataFrame = pd.DataFrame(sales_data_dict)\n",
    "\n",
    "# Create a Seaborn Bar Plot of Sales by Category\n",
    "tips_by_day_plt: Axes = sns.boxplot(x=\"day\", y=\"tip\", data=tips_df)\n",
    "\n",
    "# Set the title using the Matplotlib Pyplot title() method\n",
    "tips_by_day_plt.set_title(\"Chart 2. Sales by Category\")"
   ]
  },
  {
   "cell_type": "markdown",
   "metadata": {},
   "source": [
    "## Section 6. Create an Interactive Widget with ipywidgets\n",
    "\n",
    "Add sliders, dropdowns, or interactive inputs to make the notebook dynamic.\n",
    "This is a Markdown cell. "
   ]
  },
  {
   "cell_type": "code",
   "execution_count": 8,
   "metadata": {},
   "outputs": [
    {
     "data": {
      "application/vnd.jupyter.widget-view+json": {
       "model_id": "9290224e71b748e49f02551b7f38a208",
       "version_major": 2,
       "version_minor": 0
      },
      "text/plain": [
       "interactive(children=(IntSlider(value=10, description='count_of_bins', max=30, min=-10), Output()), _dom_class…"
      ]
     },
     "metadata": {},
     "output_type": "display_data"
    }
   ],
   "source": [
    "# This is a Python cell.\n",
    "# All imports appear once at the top of the notebook.\n",
    "\n",
    "# Generate sample data (e.g., heights in centimeters)\n",
    "# For reproducibility always set the random seed to the same value\n",
    "np.random.seed(42)\n",
    "\n",
    "# Generate 1000 random samples from a normal distribution\n",
    "# with a mean of 170 and standard deviation of 10 and store in a NumPy array\n",
    "sample_data_array = np.random.normal(loc=170, scale=10, size=1000)\n",
    "\n",
    "# Create an interactive ipywidgets Integer Slider for the number of bins\n",
    "bins_slider = ipywidgets.IntSlider(\n",
    "    value=10,  # Default value\n",
    "    min=5,  # Minimum number of bins\n",
    "    max=50,  # Maximum number of bins\n",
    "    step=1,  # Step size\n",
    "    description=\"Bins:\",\n",
    ")\n",
    "\n",
    "# Function to create a histogram with a default bin number of 10\n",
    "def plot_histogram(count_of_bins: int = 10):\n",
    "    \"\"\"\n",
    "    Plots a histogram of the sample data with the given number of bins.\n",
    "\n",
    "    Args:\n",
    "        bins (int): Number of bins for the histogram.\n",
    "    \"\"\"\n",
    "    # Create a figure and axis\n",
    "    fig, ax = matplotlib.pyplot.subplots(figsize=(8, 5))\n",
    "    \n",
    "    # Plot the histogram (call the axes.hist() method)\n",
    "    ax.hist(sample_data_array, bins=count_of_bins, color=\"skyblue\", edgecolor=\"black\")\n",
    "    \n",
    "    # Set titles and labels for this axis\n",
    "    ax.set_title(\"Chart 3. Interactive Histogram (use slider to change number of bins)\")\n",
    "    ax.set_xlabel(\"Value\")\n",
    "    ax.set_ylabel(\"Frequency\")\n",
    "    \n",
    "    # Add grid lines\n",
    "    ax.grid(axis=\"y\", linestyle=\"--\", alpha=0.7)\n",
    "    \n",
    "    # Display the plot - not needed in a notebook \n",
    "    # Call this only if using this code in a script\n",
    "    # ax.show()\n",
    "\n",
    "\n",
    "# Use ipywidgets to link the slider to the plot_histogram function\n",
    "interactive_hist = ipywidgets.interactive(plot_histogram, bins=bins_slider)\n",
    "\n",
    "# Display the interactive plot\n",
    "IPython.display.display(interactive_hist)"
   ]
  },
  {
   "attachments": {},
   "cell_type": "markdown",
   "metadata": {},
   "source": [
    "## Section 7. Reminder: Run All before sending to GitHub\n",
    "\n",
    "Before committing a notebook, use 'Run All' to generate all outputs and display them in the notebook. \n",
    "This is a Markdown cell.\n"
   ]
  }
 ],
 "metadata": {
  "kernelspec": {
   "display_name": "Python (.venv)",
   "language": "python",
   "name": ".venv"
  },
  "language_info": {
   "codemirror_mode": {
    "name": "ipython",
    "version": 3
   },
   "file_extension": ".py",
   "mimetype": "text/x-python",
   "name": "python",
   "nbconvert_exporter": "python",
   "pygments_lexer": "ipython3",
   "version": "3.13.5"
  },
  "orig_nbformat": 4
 },
 "nbformat": 4,
 "nbformat_minor": 2
}
